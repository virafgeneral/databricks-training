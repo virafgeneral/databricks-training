{
 "cells": [
  {
   "cell_type": "code",
   "execution_count": 0,
   "metadata": {
    "application/vnd.databricks.v1+cell": {
     "cellMetadata": {},
     "inputWidgets": {},
     "nuid": "8cc08d01-45a5-4124-b3f3-c32656ec348f",
     "showTitle": false,
     "tableResultSettingsMap": {},
     "title": ""
    }
   },
   "outputs": [],
   "source": [
    "DBU (Databricks Unit) in Databricks is only the Databricks platform cost and does not include cloud infrastructure costs.\n",
    "\n",
    "Breakdown:\n",
    "\t1.\tDBU Cost – This is the cost of running Databricks workloads (e.g., compute, jobs, clusters) and is charged per second or per hour, depending on the instance type and workload (Standard, Premium, or Enterprise).\n",
    "\t2.\tCloud Infrastructure Cost – This includes the cost of underlying cloud resources like VMs, storage, networking, and other cloud services (e.g., Azure VM costs, AWS EC2 instances, GCP resources). These are billed separately by the cloud provider.\n",
    "\n",
    "So, when estimating total costs, you need to consider both the DBU cost (Databricks pricing) and cloud infrastructure cost (Azure, AWS, or GCP pricing)."
   ]
  }
 ],
 "metadata": {
  "application/vnd.databricks.v1+notebook": {
   "computePreferences": null,
   "dashboards": [],
   "environmentMetadata": {
    "base_environment": "",
    "environment_version": "2"
   },
   "language": "python",
   "notebookMetadata": {
    "pythonIndentUnit": 4
   },
   "notebookName": "Pricing",
   "widgets": {}
  },
  "language_info": {
   "name": "python"
  }
 },
 "nbformat": 4,
 "nbformat_minor": 0
}
