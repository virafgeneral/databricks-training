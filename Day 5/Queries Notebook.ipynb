{
 "cells": [
  {
   "cell_type": "code",
   "execution_count": 0,
   "metadata": {
    "application/vnd.databricks.v1+cell": {
     "cellMetadata": {
      "byteLimit": 2048000,
      "rowLimit": 10000
     },
     "inputWidgets": {},
     "nuid": "f7234f3f-605a-4040-b593-a13f309b239a",
     "showTitle": false,
     "tableResultSettingsMap": {},
     "title": ""
    }
   },
   "outputs": [],
   "source": [
    "print(\"Day 5\")"
   ]
  },
  {
   "cell_type": "code",
   "execution_count": 0,
   "metadata": {
    "application/vnd.databricks.v1+cell": {
     "cellMetadata": {},
     "inputWidgets": {},
     "nuid": "feb4b7b9-0ca0-45b6-ae50-5f199900f316",
     "showTitle": false,
     "tableResultSettingsMap": {},
     "title": ""
    }
   },
   "outputs": [],
   "source": [
    "%sql\n",
    "CREATE TABLE IF NOT EXISTS jpm.viraf.copy_sales;\n",
    "\n",
    "COPY INTO jpm.viraf.copy_sales\n",
    "FROM 'abfss://raw@adlsdatamaster.dfs.core.windows.net/stream_in'\n",
    "FILEFORMAT = csv\n",
    "FORMAT_OPTIONS ('header'='true')\n",
    "COPY_OPTIONS ('mergeSchema' = 'true');\n",
    "\n",
    "select * from jpm.viraf.copy_sales"
   ]
  },
  {
   "cell_type": "code",
   "execution_count": 0,
   "metadata": {
    "application/vnd.databricks.v1+cell": {
     "cellMetadata": {},
     "inputWidgets": {},
     "nuid": "3ae338cc-5f7d-46cf-9967-1b60e1f0b964",
     "showTitle": false,
     "tableResultSettingsMap": {},
     "title": ""
    }
   },
   "outputs": [],
   "source": [
    "%sql\n",
    "create table sales_bronze as \n",
    "SELECT * FROM read_files(\n",
    "  'abfss://raw@adlsdatamaster.dfs.core.windows.net/ecom/Sales.csv',\n",
    "  format => 'csv',\n",
    "  header => true\n",
    "  )\n",
    "\n",
    "Select * from sales_bronze"
   ]
  },
  {
   "cell_type": "code",
   "execution_count": 0,
   "metadata": {
    "application/vnd.databricks.v1+cell": {
     "cellMetadata": {},
     "inputWidgets": {},
     "nuid": "222ba275-0984-4dc0-8282-89689a751022",
     "showTitle": false,
     "tableResultSettingsMap": {},
     "title": ""
    }
   },
   "outputs": [],
   "source": [
    "%sql\n",
    "create or replace table demo_bronze(id int, name string, country string);\n",
    "\n",
    "insert into demo_bronze values (1,'Naval', 'India'), (2,'Suhash', 'US');\n",
    "\n",
    "create or replace table demo_silver as select * from demo_bronze;\n",
    "\n",
    "select * from demo_bronze;\n",
    "select * from demo_silver;\n",
    "\n",
    "update demo_bronze set country= 'Aus' where id= 2;\n",
    "insert into demo_bronze values (4,'Naveen','India')\n",
    "\n",
    "\n",
    "MERGE INTO demo_silver as t\n",
    "USING demo_bronze as s\n",
    "ON t.id = s.id\n",
    "WHEN MATCHED THEN\n",
    "  UPDATE SET\n",
    "    t.name = s.name,\n",
    "    t.country = s.country\n",
    "WHEN NOT MATCHED\n",
    "  THEN INSERT (id,name,country)values (s.id,s.name,s.country)\n",
    "\n",
    "\n",
    "\n",
    "select * from demo_silver\n",
    "  "
   ]
  },
  {
   "cell_type": "code",
   "execution_count": 0,
   "metadata": {
    "application/vnd.databricks.v1+cell": {
     "cellMetadata": {},
     "inputWidgets": {},
     "nuid": "a078dd86-b627-4de0-9170-32ae814ae9ba",
     "showTitle": false,
     "tableResultSettingsMap": {},
     "title": ""
    }
   },
   "outputs": [],
   "source": [
    "%sql\n",
    "CREATE TABLE IF NOT EXISTS jpm.naval.copy_sales;\n",
    "\n",
    "\n",
    "\n",
    "COPY INTO jpm.naval.copy_sales\n",
    "FROM 'abfss://raw@adlsdatamaster.dfs.core.windows.net/stream_in'\n",
    "FILEFORMAT = csv\n",
    "FORMAT_OPTIONS ('header'='true')\n",
    "COPY_OPTIONS ('mergeSchema' = 'true');\n",
    "\n",
    "select * from jpm.naval.copy_sales\n",
    "\n",
    "\n",
    "describe history jpm.naval.copy_sales"
   ]
  },
  {
   "cell_type": "code",
   "execution_count": 0,
   "metadata": {
    "application/vnd.databricks.v1+cell": {
     "cellMetadata": {
      "byteLimit": 2048000,
      "implicitDf": true,
      "rowLimit": 10000
     },
     "inputWidgets": {},
     "nuid": "7750193c-140f-41be-9aa9-264104427dfc",
     "showTitle": false,
     "tableResultSettingsMap": {},
     "title": ""
    }
   },
   "outputs": [],
   "source": [
    "%sql\n",
    "Select * from ml.wine_db.wine_db_5e762f"
   ]
  }
 ],
 "metadata": {
  "application/vnd.databricks.v1+notebook": {
   "computePreferences": null,
   "dashboards": [],
   "environmentMetadata": {
    "base_environment": "",
    "environment_version": "2"
   },
   "language": "python",
   "notebookMetadata": {
    "mostRecentlyExecutedCommandWithImplicitDF": {
     "commandId": 7462438409221638,
     "dataframes": [
      "_sqldf"
     ]
    },
    "pythonIndentUnit": 4
   },
   "notebookName": "Queries Notebook",
   "widgets": {}
  },
  "language_info": {
   "name": "python"
  }
 },
 "nbformat": 4,
 "nbformat_minor": 0
}
