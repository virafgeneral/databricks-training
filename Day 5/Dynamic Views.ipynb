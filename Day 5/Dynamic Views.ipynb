{
 "cells": [
  {
   "cell_type": "code",
   "execution_count": 0,
   "metadata": {
    "application/vnd.databricks.v1+cell": {
     "cellMetadata": {
      "byteLimit": 2048000,
      "rowLimit": 10000
     },
     "inputWidgets": {},
     "nuid": "345fb709-1d35-4ba7-ab9d-5b69d064a000",
     "showTitle": false,
     "tableResultSettingsMap": {},
     "title": ""
    }
   },
   "outputs": [],
   "source": [
    "-- Create the sales_raw table\n",
    "CREATE TABLE jpm.default.sales_raw (\n",
    "  user_id STRING,\n",
    "  email STRING,\n",
    "  country STRING,\n",
    "  product STRING,\n",
    "  total DOUBLE\n",
    ");\n",
    "\n",
    "-- Insert 10 records into the sales_raw table\n",
    "INSERT INTO jpm.default.sales_raw VALUES\n",
    "('1', 'user1@example.com', 'USA', 'ProductA', 100.0),\n",
    "('2', 'user2@example.com', 'Canada', 'ProductB', 150.0),\n",
    "('3', 'user3@example.com', 'UK', 'ProductC', 200.0),\n",
    "('4', 'user4@example.com', 'Germany', 'ProductD', 250.0),\n",
    "('5', 'user5@example.com', 'France', 'ProductE', 300.0),\n",
    "('6', 'user6@example.com', 'Italy', 'ProductF', 350.0),\n",
    "('7', 'user7@example.com', 'Spain', 'ProductG', 400.0),\n",
    "('8', 'user8@example.com', 'Australia', 'ProductH', 450.0),\n",
    "('9', 'user9@example.com', 'India', 'ProductI', 500.0),\n",
    "('10', 'user10@example.com', 'Japan', 'ProductJ', 550.0);\n",
    "\n"
   ]
  },
  {
   "cell_type": "code",
   "execution_count": 0,
   "metadata": {
    "application/vnd.databricks.v1+cell": {
     "cellMetadata": {
      "byteLimit": 2048000,
      "rowLimit": 10000
     },
     "inputWidgets": {},
     "nuid": "e6dcb8c5-4e99-4b21-88c6-a4f2f0fe5b88",
     "showTitle": false,
     "tableResultSettingsMap": {},
     "title": ""
    }
   },
   "outputs": [],
   "source": [
    "create or replace view jpm.default.sales_view as select * from jpm.default.sales_raw"
   ]
  },
  {
   "cell_type": "code",
   "execution_count": 0,
   "metadata": {
    "application/vnd.databricks.v1+cell": {
     "cellMetadata": {
      "byteLimit": 2048000,
      "rowLimit": 10000
     },
     "inputWidgets": {},
     "nuid": "4ccbc763-9d07-4f70-83ec-5ce6d331252e",
     "showTitle": false,
     "tableResultSettingsMap": {},
     "title": ""
    }
   },
   "outputs": [],
   "source": [
    "select * from jpm.default.sales_view"
   ]
  },
  {
   "cell_type": "code",
   "execution_count": 0,
   "metadata": {
    "application/vnd.databricks.v1+cell": {
     "cellMetadata": {
      "byteLimit": 2048000,
      "rowLimit": 10000
     },
     "inputWidgets": {},
     "nuid": "5d2cc553-5eb4-46ad-aa67-c9b2df784db9",
     "showTitle": false,
     "tableResultSettingsMap": {},
     "title": ""
    }
   },
   "outputs": [],
   "source": [
    "-- Alias the field 'email' to itself (as 'email') to prevent the\n",
    "-- permission logic from showing up directly in the column name results.\n",
    "CREATE or replace VIEW jpm.default.sales_redacted AS\n",
    "SELECT\n",
    "  user_id,\n",
    "  CASE WHEN\n",
    "    is_account_group_member('jpm_banglore') THEN 'REDACTED'\n",
    "    ELSE email\n",
    "  END AS email,\n",
    "  country,\n",
    "  product,\n",
    "  total\n",
    "FROM jpm.default.sales_view"
   ]
  },
  {
   "cell_type": "code",
   "execution_count": 0,
   "metadata": {
    "application/vnd.databricks.v1+cell": {
     "cellMetadata": {
      "byteLimit": 2048000,
      "rowLimit": 10000
     },
     "inputWidgets": {},
     "nuid": "548e5e73-074b-47d3-b047-542d49a1c5c6",
     "showTitle": false,
     "tableResultSettingsMap": {},
     "title": ""
    }
   },
   "outputs": [],
   "source": [
    "select * from jpm.default.sales_redacted"
   ]
  },
  {
   "cell_type": "code",
   "execution_count": 0,
   "metadata": {
    "application/vnd.databricks.v1+cell": {
     "cellMetadata": {
      "byteLimit": 2048000,
      "rowLimit": 10000
     },
     "inputWidgets": {},
     "nuid": "4a80a988-af37-47b9-90f2-5ce2ffc8963d",
     "showTitle": false,
     "tableResultSettingsMap": {},
     "title": ""
    }
   },
   "outputs": [],
   "source": [
    "CREATE or replace VIEW jpm.default.sales_view_india AS\n",
    "SELECT\n",
    "  user_id,\n",
    "  email,\n",
    "  product,\n",
    "  country,\n",
    "  total\n",
    "FROM jpm.default.sales_view\n",
    "WHERE\n",
    "  CASE\n",
    "    WHEN is_account_group_member('jpm_banglore') THEN country='India'\n",
    "    ELSE TRUE\n",
    "  END;"
   ]
  },
  {
   "cell_type": "code",
   "execution_count": 0,
   "metadata": {
    "application/vnd.databricks.v1+cell": {
     "cellMetadata": {
      "byteLimit": 2048000,
      "rowLimit": 10000
     },
     "inputWidgets": {},
     "nuid": "84300d77-2d9d-446d-ae0c-b53ab8faca33",
     "showTitle": false,
     "tableResultSettingsMap": {},
     "title": ""
    }
   },
   "outputs": [],
   "source": [
    "select * from jpm.default.sales_view_india"
   ]
  },
  {
   "cell_type": "code",
   "execution_count": 0,
   "metadata": {
    "application/vnd.databricks.v1+cell": {
     "cellMetadata": {},
     "inputWidgets": {},
     "nuid": "d9046377-7bd1-4402-99c2-5c465f50710a",
     "showTitle": false,
     "tableResultSettingsMap": {},
     "title": ""
    }
   },
   "outputs": [],
   "source": []
  },
  {
   "cell_type": "code",
   "execution_count": 0,
   "metadata": {
    "application/vnd.databricks.v1+cell": {
     "cellMetadata": {
      "byteLimit": 2048000,
      "rowLimit": 10000
     },
     "inputWidgets": {},
     "nuid": "9dc5add6-fd79-4ecb-9116-7485674b0ad9",
     "showTitle": false,
     "tableResultSettingsMap": {},
     "title": ""
    }
   },
   "outputs": [],
   "source": [
    "CREATE or replace FUNCTION jpm.viraf_gold.message(amt DOUBLE)\n",
    "RETURNS STRING\n",
    "RETURN CONCAT('The value ', amt, ' is for ',round( amt * 0.10), 'discount')"
   ]
  },
  {
   "cell_type": "code",
   "execution_count": 0,
   "metadata": {
    "application/vnd.databricks.v1+cell": {
     "cellMetadata": {
      "byteLimit": 2048000,
      "rowLimit": 10000
     },
     "inputWidgets": {},
     "nuid": "562b5d16-7dde-437c-82f2-1e00b8e3e630",
     "showTitle": false,
     "tableResultSettingsMap": {},
     "title": ""
    }
   },
   "outputs": [],
   "source": [
    "select * from jpm.viraf_gold.all_records"
   ]
  },
  {
   "cell_type": "code",
   "execution_count": 0,
   "metadata": {
    "application/vnd.databricks.v1+cell": {
     "cellMetadata": {
      "byteLimit": 2048000,
      "rowLimit": 10000
     },
     "inputWidgets": {},
     "nuid": "85619e47-bf2f-497a-a329-6716f3b14ff7",
     "showTitle": false,
     "tableResultSettingsMap": {},
     "title": ""
    }
   },
   "outputs": [],
   "source": [
    "select *,jpm.viraf_gold.message(amt) as message from jpm.viraf_gold.all_records"
   ]
  }
 ],
 "metadata": {
  "application/vnd.databricks.v1+notebook": {
   "computePreferences": null,
   "dashboards": [],
   "environmentMetadata": {
    "base_environment": "",
    "environment_version": "2"
   },
   "language": "sql",
   "notebookMetadata": {
    "pythonIndentUnit": 4
   },
   "notebookName": "Dynamic Views",
   "widgets": {}
  },
  "language_info": {
   "name": "sql"
  }
 },
 "nbformat": 4,
 "nbformat_minor": 0
}
